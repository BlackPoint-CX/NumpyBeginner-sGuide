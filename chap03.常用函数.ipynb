{
 "cells": [
  {
   "cell_type": "code",
   "execution_count": 1,
   "metadata": {
    "collapsed": true
   },
   "outputs": [],
   "source": [
    "import numpy as np\n",
    "import matplotlib.pyplot as plt\n",
    "% matplotlib inline\n",
    "plt.rcParams['font.sans-serif']=['SimHei'] #用来正常显示中文标签\n",
    "plt.rcParams['axes.unicode_minus']=False #用来正常显示负号"
   ]
  },
  {
   "cell_type": "markdown",
   "metadata": {},
   "source": [
    "###### 读写文件\n",
    "创建一个单位矩阵并将其存储到文件中"
   ]
  },
  {
   "cell_type": "code",
   "execution_count": 2,
   "metadata": {
    "collapsed": false
   },
   "outputs": [
    {
     "name": "stdout",
     "output_type": "stream",
     "text": [
      "[[ 1.  0.]\n",
      " [ 0.  1.]]\n"
     ]
    }
   ],
   "source": [
    "i2 = np.eye(2) # 创建一个二维单位矩阵数组\n",
    "print(i2)\n",
    "np.savetxt('eye.txt',i2) # 用savetxt函数进行写文件的操作"
   ]
  },
  {
   "cell_type": "markdown",
   "metadata": {},
   "source": [
    "###### 读入CSV文件\n",
    "载入苹果公司的历史股价数据为例。股价数据存储在CSV中，第一列为股票代码，第二列为dd-mm-yyyy格式日期，第三列为空，随后各列依次为开盘价、最高价、最低价和收盘价，最后一列为当日的成交量。"
   ]
  },
  {
   "cell_type": "code",
   "execution_count": 3,
   "metadata": {
    "collapsed": true
   },
   "outputs": [],
   "source": [
    "# 用loadtxt函数读取csv文件，用delimiter参数指定文件中的分隔符\n",
    "# 用usecols参数指定要导入的数据列，将unpack参数设置为True使不同列的数据分开存储\n",
    "c, v = np.loadtxt('data.csv',delimiter=',', usecols=(6,7), unpack=True)"
   ]
  },
  {
   "cell_type": "markdown",
   "metadata": {},
   "source": [
    "###### 成交量加权平均价格（VWAP）\n",
    "VWAP是一个非常重要的经济学量，代表着金融资产的“平均”价格。某个价格的成交量越高，该价格所占的权重就越大。VWAP就是以成交量为权重计算出来的加权平均值，常用于算法交易。"
   ]
  },
  {
   "cell_type": "code",
   "execution_count": 4,
   "metadata": {
    "collapsed": false
   },
   "outputs": [
    {
     "name": "stdout",
     "output_type": "stream",
     "text": [
      "VWAP = 350.589549353\n"
     ]
    }
   ],
   "source": [
    "vmap = np.average(c, weights=v) \n",
    "print(\"VWAP = \" + str(vmap))"
   ]
  },
  {
   "cell_type": "markdown",
   "metadata": {},
   "source": [
    "###### 算术平均值"
   ]
  },
  {
   "cell_type": "code",
   "execution_count": 5,
   "metadata": {
    "collapsed": false
   },
   "outputs": [
    {
     "name": "stdout",
     "output_type": "stream",
     "text": [
      "算术平均值mean = 351.037666667\n"
     ]
    }
   ],
   "source": [
    "mean = np.mean(c)\n",
    "print (\"算术平均值mean = \" + str(mean))"
   ]
  },
  {
   "cell_type": "markdown",
   "metadata": {},
   "source": [
    "###### 时间加权平均价格（TWAP）\n",
    "在经济学中，TWAP是另一种“平均”价格的指标。基本思想就是最近的价格重要性大一些，所以应对近期的价格给以较高的权重。最简单的方法是用arange函数创建一个从0开始依次增长的自然数序列，自然数的个数即为收盘价的个数。这并不一定是正确的计算TWAP的方式，示例仅仅是为了说明问题。"
   ]
  },
  {
   "cell_type": "code",
   "execution_count": 6,
   "metadata": {
    "collapsed": false
   },
   "outputs": [
    {
     "name": "stdout",
     "output_type": "stream",
     "text": [
      "TWAP = 352.428321839\n"
     ]
    }
   ],
   "source": [
    "t = np.arange(len(c))\n",
    "twap = np.average(c, weights=t)\n",
    "print(\"TWAP = \" + str(twap))"
   ]
  },
  {
   "cell_type": "markdown",
   "metadata": {},
   "source": [
    "###### 找到最大值和最小值"
   ]
  },
  {
   "cell_type": "code",
   "execution_count": 7,
   "metadata": {
    "collapsed": false
   },
   "outputs": [
    {
     "name": "stdout",
     "output_type": "stream",
     "text": [
      "最高价格highest =  364.9\n",
      "最低价格lowest =  333.53\n"
     ]
    }
   ],
   "source": [
    "# 载入每日最高价和最低价的数据\n",
    "h, l = np.loadtxt('data.csv', delimiter=',', usecols=(4,5), unpack=True)\n",
    "# 获取价格区间\n",
    "highest = np.max(h)\n",
    "lowest = np.min(l)\n",
    "print(\"最高价格highest =  \" + str(highest))\n",
    "print(\"最低价格lowest =  \" + str(lowest))"
   ]
  },
  {
   "cell_type": "code",
   "execution_count": 8,
   "metadata": {
    "collapsed": false
   },
   "outputs": [
    {
     "name": "stdout",
     "output_type": "stream",
     "text": [
      "最高价之间的差值spread_high_price =  24.86\n",
      "最低价之间的差值spread_low_price =  26.97\n"
     ]
    }
   ],
   "source": [
    "# ptp函数计算数组的取值范围，返回的是数组元素的最大值和最小值之间的差值\n",
    "spread_high_price = np.ptp(h)\n",
    "spread_low_price = np.ptp(l)\n",
    "print(\"最高价之间的差值spread_high_price =  \" + str(spread_high_price))\n",
    "print(\"最低价之间的差值spread_low_price =  \" + str(spread_low_price))"
   ]
  },
  {
   "cell_type": "markdown",
   "metadata": {},
   "source": [
    "###### 简单统计分析"
   ]
  },
  {
   "cell_type": "code",
   "execution_count": 9,
   "metadata": {
    "collapsed": false
   },
   "outputs": [
    {
     "name": "stdout",
     "output_type": "stream",
     "text": [
      "收盘价的中位数median = 352.055\n"
     ]
    }
   ],
   "source": [
    "# 调用median函数计算收盘价的中位数\n",
    "median = np.median(c)\n",
    "print(\"收盘价的中位数median = \" + str(median))"
   ]
  },
  {
   "cell_type": "markdown",
   "metadata": {},
   "source": [
    "数学上常规方法计算中位数：<br>\n",
    "&nbsp;&nbsp;&nbsp;&nbsp;&nbsp;&nbsp;首先对数组进行从小到大排序；<br>\n",
    "&nbsp;&nbsp;&nbsp;&nbsp;&nbsp;&nbsp;如果数组长度为奇数，中位数就是中间位的数；<br>\n",
    "&nbsp;&nbsp;&nbsp;&nbsp;&nbsp;&nbsp;如果数组长度为偶数，中位数的值等于中间那两个数的平均值。"
   ]
  },
  {
   "cell_type": "code",
   "execution_count": 10,
   "metadata": {
    "collapsed": false
   },
   "outputs": [
    {
     "name": "stdout",
     "output_type": "stream",
     "text": [
      "排序后的价格数组sorted = [ 336.1   338.61  339.32  342.62  342.88  343.44  344.32  345.03  346.5\n",
      "  346.67  348.16  349.31  350.56  351.88  351.99  352.12  352.47  353.21\n",
      "  354.54  355.2   355.36  355.76  356.85  358.16  358.3   359.18  359.56\n",
      "  359.9   360.    363.13]\n"
     ]
    }
   ],
   "source": [
    "# 对价格数组进行排序\n",
    "sorted_c = np.msort(c)\n",
    "print(\"排序后的价格数组sorted = \" + str(sorted_c))"
   ]
  },
  {
   "cell_type": "code",
   "execution_count": 11,
   "metadata": {
    "collapsed": false
   },
   "outputs": [
    {
     "name": "stdout",
     "output_type": "stream",
     "text": [
      "中位数middle = 352.055\n"
     ]
    }
   ],
   "source": [
    "# 根据中位数定义求中位数\n",
    "N = len(c)\n",
    "if N % 2 == 1:   # 如果长度为奇数\n",
    "    middle = sorted_c[(N - 1)/2]\n",
    "else:   # 长度为偶数\n",
    "    middle = (sorted_c[N / 2] + sorted_c[(N-1) / 2]) / 2\n",
    "print(\"中位数middle = \" + str(middle))"
   ]
  },
  {
   "cell_type": "markdown",
   "metadata": {},
   "source": [
    "方差：能体现变量变化的程度。在示例中，方差体现为投资风险的大小。<br>\n",
    "numpy文档中方差的定义：各个数据与所有数据算术平方数的离差平方和除以数据个数所得到的值。<br>\n",
    "一般统计学书上样本方差的定义：离差平方和/(n-1) ,其中n为样本个数。<br>\n",
    "之所以有这样的差别，是为了保证样本方差是一个无偏估计量，但numpy文档中方差的定义在机器学习领域更为通用。"
   ]
  },
  {
   "cell_type": "code",
   "execution_count": 12,
   "metadata": {
    "collapsed": false
   },
   "outputs": [
    {
     "name": "stdout",
     "output_type": "stream",
     "text": [
      "根据函数计算收盘价的方差variance = 50.1265178889\n",
      "根据定义计算收盘价的方差variance_from_definition = 50.1265178889\n"
     ]
    }
   ],
   "source": [
    "# 根据方差函数计算方差\n",
    "variance = np.var(c)\n",
    "print(\"根据函数计算收盘价的方差variance = \" + str(variance))\n",
    "# 根据定义计算方差\n",
    "variance_from_definition = np.mean((c - np.mean(c)) ** 2)\n",
    "print(\"根据定义计算收盘价的方差variance_from_definition = \" + str(variance_from_definition))"
   ]
  },
  {
   "cell_type": "markdown",
   "metadata": {},
   "source": [
    "###### 股票收益率\n",
    "在学术文献中，收盘价的分析常常是基于股票收益率和对数收益率的。<br>\n",
    "简单收益率是指相邻两个价格之间的变化率。<br>\n",
    "对数收益率是指所有价格取对数后两两之间的差值。对数收益率也可以用来衡量价格的变化率。<br>\n",
    "收益率是无量纲的。投资者感兴趣的是收益率的方差或标准差，因为这代表这投资风险的大小。"
   ]
  },
  {
   "cell_type": "code",
   "execution_count": 13,
   "metadata": {
    "collapsed": false
   },
   "outputs": [
    {
     "name": "stdout",
     "output_type": "stream",
     "text": [
      "简单收益率标准差standard_deviation = 0.0129221344368\n"
     ]
    }
   ],
   "source": [
    "# 计算简单收益率。\n",
    "# diff函数返回一个由相邻数组元素的差值构成的数组\n",
    "returns = np.diff(c) / c[:-1]\n",
    "# 用std函数计算标准差\n",
    "standard_deviation = np.std(returns)\n",
    "print(\"简单收益率标准差standard_deviation = \" + str(standard_deviation))"
   ]
  },
  {
   "cell_type": "code",
   "execution_count": 14,
   "metadata": {
    "collapsed": false
   },
   "outputs": [
    {
     "name": "stdout",
     "output_type": "stream",
     "text": [
      "收益率为正的索引： (array([ 0,  1,  4,  5,  6,  7,  9, 10, 11, 12, 16, 17, 18, 19, 21, 22, 23,\n",
      "       25, 28], dtype=int64),)\n"
     ]
    }
   ],
   "source": [
    "# 计算对数收益率\n",
    "# 一般情况下需要检查输入数组以确保其不含零和负数，在该例中股价总为正值，可省略检查。\n",
    "logreturns = np.diff(np.log(c)) \n",
    "# 我们对哪些交易日的收益率为正值感兴趣\n",
    "# where函数可以根据指定的条件返回所有满足条件的数组元素的索引值。\n",
    "posretindices = np.where(returns > 0) \n",
    "print(\"收益率为正的索引： \" + str(posretindices))"
   ]
  },
  {
   "cell_type": "markdown",
   "metadata": {},
   "source": [
    "波动率是对价格变动的一种度量。年波动率等于对数收益率的标准差除以其均值，再除以交易日倒数的平方根，通常交易日取252天。"
   ]
  },
  {
   "cell_type": "code",
   "execution_count": 15,
   "metadata": {
    "collapsed": false
   },
   "outputs": [
    {
     "name": "stdout",
     "output_type": "stream",
     "text": [
      "年波动率annual_volatility = 129.274789911\n",
      "月波动率monthly_volatility = 37.3184173773\n"
     ]
    }
   ],
   "source": [
    "# 计算波动率\n",
    "annual_volatility = np.std(logreturns) / np.mean(logreturns)\n",
    "annual_volatility = annual_volatility / np.sqrt(1. / 252.)\n",
    "print(\"年波动率annual_volatility = \" + str(annual_volatility))\n",
    "monthly_volatility = annual_volatility * np.sqrt(1. / 12.)\n",
    "print(\"月波动率monthly_volatility = \" + str(monthly_volatility))"
   ]
  },
  {
   "cell_type": "markdown",
   "metadata": {},
   "source": [
    "###### 日期分析\n",
    "Numpy是面向浮点数运算的，因此需要对日期做一些专门的处理。我们需要显式地告诉Numpy怎样来转换日期，需要用到loadtxt函数中converters参数，该参数是数据列和转换函数之间进行映射的字典。<br>\n",
    "写出转换函数：<br>\n",
    "&nbsp;&nbsp;&nbsp;&nbsp;&nbsp;&nbsp;星期一   0<br>\n",
    "&nbsp;&nbsp;&nbsp;&nbsp;&nbsp;&nbsp;星期二   1<br>\n",
    "&nbsp;&nbsp;&nbsp;&nbsp;&nbsp;&nbsp;星期三   2<br>\n",
    "&nbsp;&nbsp;&nbsp;&nbsp;&nbsp;&nbsp;星期四   3<br>\n",
    "&nbsp;&nbsp;&nbsp;&nbsp;&nbsp;&nbsp;星期五   4<br>\n",
    "&nbsp;&nbsp;&nbsp;&nbsp;&nbsp;&nbsp;星期六   5<br>\n",
    "&nbsp;&nbsp;&nbsp;&nbsp;&nbsp;&nbsp;星期日   6<br>"
   ]
  },
  {
   "cell_type": "code",
   "execution_count": 16,
   "metadata": {
    "collapsed": true
   },
   "outputs": [],
   "source": [
    "import datetime\n",
    "# 将日期作为字符串传给datestr2num函数，按照指定的形式\"%d-%m-%Y\"转换成一个datetime对象，\n",
    "# 随后datetime对象被转换为date对象，最后调用weekday方法返回一个数字\n",
    "def datestr2num(s):\n",
    "    return datetime.datetime.strptime(s, \"%d-%m-%Y\").date().weekday()"
   ]
  },
  {
   "cell_type": "code",
   "execution_count": 17,
   "metadata": {
    "collapsed": false
   },
   "outputs": [
    {
     "name": "stdout",
     "output_type": "stream",
     "text": [
      "日期Dates = [ 4.  0.  1.  2.  3.  4.  0.  1.  2.  3.  4.  0.  1.  2.  3.  4.  1.  2.\n",
      "  3.  4.  0.  1.  2.  3.  4.  0.  1.  2.  3.  4.]\n"
     ]
    }
   ],
   "source": [
    "# 将日期转换函数挂接上去，读入数据\n",
    "dates, o = np.loadtxt('data.csv', delimiter=',', usecols=(1,3), converters={1:datestr2num}, unpack=True)\n",
    "print(\"日期Dates = \" + str(dates))"
   ]
  },
  {
   "cell_type": "code",
   "execution_count": 18,
   "metadata": {
    "collapsed": false
   },
   "outputs": [
    {
     "name": "stdout",
     "output_type": "stream",
     "text": [
      "Day 0 prices [[ 339.32  351.88  359.18  353.21  355.36]] Average 351.79\n",
      "Day 1 prices [[ 345.03  355.2   359.9   338.61  349.31  355.76]] Average 350.635\n",
      "Day 2 prices [[ 344.32  358.16  363.13  342.62  352.12  352.47]] Average 352.136666667\n",
      "Day 3 prices [[ 343.44  354.54  358.3   342.88  359.56  346.67]] Average 350.898333333\n",
      "Day 4 prices [[ 336.1   346.5   356.85  350.56  348.16  360.    351.99]] Average 350.022857143\n"
     ]
    }
   ],
   "source": [
    "# 创建一个包含5个元素的数组，分别代表一周的5个工作日，数组初始化为0，这个数组将用于保存各工作日的平均收盘价。\n",
    "averages = np.zeros(5)\n",
    "# 遍历星期一到星期五\n",
    "for i in range(5):\n",
    "    indices = np.where(dates == i)  # 用where函数得到各工作日的索引值并存储在indices数组中\n",
    "    prices = np.take(c,indices)     # 再用take函数获取这些索引值相应的元素值\n",
    "    avg = np.mean(prices)\n",
    "    print(\"Day \"+str(i)+\" prices \"+str(prices)+\" Average \"+str(avg))\n",
    "    averages[i] = avg  # 对每个工作日计算出的平均值存放在averages数组中"
   ]
  },
  {
   "cell_type": "code",
   "execution_count": 19,
   "metadata": {
    "collapsed": false
   },
   "outputs": [
    {
     "name": "stdout",
     "output_type": "stream",
     "text": [
      "最高工作日平均收盘价top = 352.136666667\n",
      "平均收盘价最高的工作日是： 2\n",
      "最低工作日平均收盘价bottom = 350.022857143\n",
      "平均收盘价最低的工作日是： 4\n"
     ]
    }
   ],
   "source": [
    "# 找出哪个工作日的平均收盘价最高，哪个最低\n",
    "top = np.max(averages)\n",
    "print(\"最高工作日平均收盘价top = \" + str(top))\n",
    "# argmax函数返回的是averages数组中最大元素的索引值\n",
    "print(\"平均收盘价最高的工作日是： \" + str(np.argmax(averages)))   \n",
    "bottom = np.min(averages)\n",
    "print(\"最低工作日平均收盘价bottom = \" + str(bottom))\n",
    "# argmin函数返回的是averages数组中最小元素的索引值\n",
    "print(\"平均收盘价最低的工作日是： \" + str(np.argmin(averages)))   "
   ]
  },
  {
   "cell_type": "markdown",
   "metadata": {},
   "source": [
    "###### 汇总数据\n",
    "汇总整个交易周中从周一到周五的所有数据。"
   ]
  },
  {
   "cell_type": "code",
   "execution_count": 20,
   "metadata": {
    "collapsed": false
   },
   "outputs": [
    {
     "name": "stdout",
     "output_type": "stream",
     "text": [
      "第一个星期一的索引：1\n"
     ]
    }
   ],
   "source": [
    "# 只考虑前三周的数据，避免节假日造成的数据缺失。\n",
    "c = c[:16]\n",
    "dates = dates[:16]\n",
    "# 找到第一个星期一\n",
    "first_monday = np.ravel(np.where(dates == 0))[0]\n",
    "print('第一个星期一的索引：' + str(first_monday))"
   ]
  },
  {
   "cell_type": "code",
   "execution_count": 21,
   "metadata": {
    "collapsed": false
   },
   "outputs": [
    {
     "name": "stdout",
     "output_type": "stream",
     "text": [
      "最后一个星期五的索引：15\n"
     ]
    }
   ],
   "source": [
    "# 找到最后一个星期五\n",
    "last_friday = np.ravel(np.where(dates == 4))[-1]\n",
    "print('最后一个星期五的索引：' + str(last_friday))"
   ]
  },
  {
   "cell_type": "code",
   "execution_count": 22,
   "metadata": {
    "collapsed": false
   },
   "outputs": [
    {
     "name": "stdout",
     "output_type": "stream",
     "text": [
      "周索引初始化： [ 1  2  3  4  5  6  7  8  9 10 11 12 13 14 15]\n"
     ]
    }
   ],
   "source": [
    "# 创建一个数组，用于存储三周内每一天的索引值\n",
    "weeks_indices = np.arange(first_monday, last_friday +1)\n",
    "print(\"周索引初始化： \" + str(weeks_indices))"
   ]
  },
  {
   "cell_type": "code",
   "execution_count": 23,
   "metadata": {
    "collapsed": false
   },
   "outputs": [
    {
     "name": "stdout",
     "output_type": "stream",
     "text": [
      "分组之后的周索引： [array([1, 2, 3, 4, 5], dtype=int64), array([ 6,  7,  8,  9, 10], dtype=int64), array([11, 12, 13, 14, 15], dtype=int64)]\n"
     ]
    }
   ],
   "source": [
    "# 按照每个子数组5个元素，用split函数切分数组\n",
    "weeks_indices = np.split(weeks_indices, 3)\n",
    "print(\"分组之后的周索引： \" + str(weeks_indices))"
   ]
  },
  {
   "cell_type": "code",
   "execution_count": 24,
   "metadata": {
    "collapsed": false
   },
   "outputs": [
    {
     "name": "stdout",
     "output_type": "stream",
     "text": [
      "周总结：[['APPL' '335.8' '346.7' '334.3' '346.5']\n",
      " ['APPL' '347.8' '360.0' '347.6' '356.8']\n",
      " ['APPL' '356.7' '364.9' '349.5' '350.5']]\n"
     ]
    }
   ],
   "source": [
    "# 编写summarize函数。该函数将为每一周的数据返回一个元组，包含这一周的开盘价，最高价，最低价和收盘价\n",
    "def summarize(a, o, h, l, c):\n",
    "    monday_open = o[a[0]]  # 一周的开盘价即为周一的开盘价\n",
    "    # 用take函数来根据索引值获取数组元素的值，并用max函数计算出一周的最高股价\n",
    "    week_high = np.max(np.take(h, a))  \n",
    "    week_low = np.min(np.take(l, a))\n",
    "    friday_close = c[a[-1]]  # 一周的收盘价即为周五的收盘价\n",
    "    return(\"APPL\", monday_open, week_high, week_low, friday_close)\n",
    "# apply_along_axis函数会调用summarize函数，分别作用于3个星期数组，数组元素中的索引值对应于示例中的一天\n",
    "weeksummary = np.apply_along_axis(summarize, 1, weeks_indices, o, h, l, c)\n",
    "print(\"周总结：\" + str(weeksummary))\n",
    "# 用savetxt函数，指定文件名，需要保存的数组名，分隔符以及存储浮点数的格式\n",
    "np.savetxt(\"weeksummary.csv\",weeksummary, delimiter=\",\", fmt=\"%s\")"
   ]
  },
  {
   "cell_type": "markdown",
   "metadata": {},
   "source": [
    "###### 格式字符串的说明\n",
    "格式字符串的格式为：%[标志字符][输出宽度参数][精度格式符]字符类型<br>\n",
    "其中[]部分为可选部分，以下对各个部分进行说明。<br>\n",
    "标志字符：<br>\n",
    "<table border=\"1\">\n",
    "  <tr>\n",
    "    <th>标志字符</th>\n",
    "    <th>含义</th>\n",
    "  </tr>\n",
    "  <tr>\n",
    "    <td>-</td>\n",
    "    <td>左对齐</td>\n",
    "  </tr>\n",
    "  <tr>\n",
    "    <td>0</td>\n",
    "    <td>左端补0</td>\n",
    "  </tr>\n",
    "  <tr>\n",
    "    <td>+</td>\n",
    "    <td>输出符号（正号+或负号-）</td>\n",
    "  </tr>\n",
    "</table>\n",
    "输出宽度参数：表示输出的最小位数。<br>\n",
    "精度格式符：以“.”开头，后面跟一个表示精度的整数。<br>\n",
    "字符类型：\n",
    "<table border=\"1\">\n",
    "  <tr>\n",
    "    <th>字符编码</th>\n",
    "    <th>含义</th>\n",
    "  </tr>\n",
    "  <tr>\n",
    "    <td>c</td>\n",
    "    <td>单个字符</td>\n",
    "  </tr>\n",
    "  <tr>\n",
    "    <td>d或i</td>\n",
    "    <td>十进制有符号整数</td>\n",
    "  </tr>\n",
    "  <tr>\n",
    "    <td>e或E</td>\n",
    "    <td>科学记数法表示的浮点数</td>\n",
    "  </tr>\n",
    "    <tr>\n",
    "    <td>f</td>\n",
    "    <td>浮点数</td>\n",
    "  </tr>\n",
    "  <tr>\n",
    "    <td>g或G</td>\n",
    "    <td>自动在e、E和f中选择合适的表示法</td>\n",
    "  </tr>\n",
    "  <tr>\n",
    "    <td>o</td>\n",
    "    <td>八进制有符号整数</td>\n",
    "  </tr>\n",
    "    <tr>\n",
    "    <td>s</td>\n",
    "    <td>字符串</td>\n",
    "  </tr>\n",
    "  <tr>\n",
    "    <td>u</td>\n",
    "    <td>十进制有无符号整数</td>\n",
    "  </tr>\n",
    "  <tr>\n",
    "    <td>x或X</td>\n",
    "    <td>十六进制有无符号整数</td>\n",
    "  </tr>\n",
    "</table>"
   ]
  },
  {
   "cell_type": "markdown",
   "metadata": {},
   "source": [
    "###### 真实波动幅度均值（ATR）\n",
    "ATR是一个用来衡量股价波动性的技术指标。<br>\n",
    "ATR是基于N个交易日的最高价和最低价进行计算的，通常取最近20个交易日。"
   ]
  },
  {
   "cell_type": "code",
   "execution_count": 25,
   "metadata": {
    "collapsed": false
   },
   "outputs": [
    {
     "name": "stdout",
     "output_type": "stream",
     "text": [
      "请输入一个正整数：\n",
      "20\n",
      "最高价h的长度：20 最低价l的长度：20\n",
      "收盘价c：[ 336.1   339.32  345.03  344.32  343.44  346.5   351.88  355.2   358.16\n",
      "  354.54  356.85  359.18  359.9   363.13  358.3   350.56  338.61  342.62\n",
      "  342.88  348.16  353.21  349.31  352.12  359.56  360.    355.36  355.76\n",
      "  352.47  346.67  351.99]\n",
      "前一个交易日的收盘价previousclose = [ 354.54  356.85  359.18  359.9   363.13  358.3   350.56  338.61  342.62\n",
      "  342.88  348.16  353.21  349.31  352.12  359.56  360.    355.36  355.76\n",
      "  352.47  346.67]\n",
      "真实波动truerange：[  4.26   2.77   2.42   5.     3.75   9.98   7.68   6.03   6.78   5.55\n",
      "   6.89   8.04   5.95   7.67   2.54  10.36   5.15   4.16   4.87   7.32]\n",
      "ATR = [ 5.8585      5.704075    5.53987125  5.51287769  5.4247338   5.65249711\n",
      "  5.75387226  5.76767864  5.81829471  5.80487998  5.85913598  5.96817918\n",
      "  5.96727022  6.05240671  5.87678637  6.10094705  6.0533997   5.95872972\n",
      "  5.90429323  5.97507857]\n"
     ]
    }
   ],
   "source": [
    "h, l, c = np.loadtxt('data.csv', delimiter=',', usecols=(4, 5, 6), unpack=True)\n",
    "# 获取近N个交易日的最高价和最低价\n",
    "N = int(raw_input(u\"请输入一个正整数：\\n\"))\n",
    "h = h[-N:]\n",
    "l = l[-N:]\n",
    "print(\"最高价h的长度：\" + str(len(h)) + \" 最低价l的长度：\" + str(len(l)))\n",
    "print(\"收盘价c：\" + str(c))\n",
    "# 获取前一个交易日的收盘价\n",
    "previousclose = c[-N -1: -1]\n",
    "print(\"前一个交易日的收盘价previousclose = \" + str(previousclose))\n",
    "'''对于每一个交易日，计算以下各项：\n",
    "h-l 当日股价范围，即当日最高价和最低价之差；\n",
    "h-previousclose 当日最高价和前一个交易日收盘价之差；\n",
    "previousclose-l 前一个交易日收盘价和当日最低价之差'''\n",
    "# 返回一组数组之间挑选每一个元素位置上的最大值\n",
    "truerange = np.maximum(h - l, h - previousclose, previousclose - l)\n",
    "print(\"真实波动truerange：\" + str(truerange))\n",
    "# 创建一个长度为N的数组atr，并初始化数组元素为0\n",
    "atr = np.zeros(N)\n",
    "# 数组首元素就是truerange数组元素的平均值\n",
    "atr[0] = np.mean(truerange)\n",
    "# 其他元素的计算公式为((N-1)PATR+TR)/N，PATR表示前一个交易日的ATR值，TR即当日的真实波动幅度\n",
    "for i in range(1, N):\n",
    "    atr[i] = (N - 1) * atr[i-1] +truerange[i]\n",
    "    atr[i] /= N\n",
    "print(\"ATR = \" + str(atr))"
   ]
  },
  {
   "cell_type": "markdown",
   "metadata": {},
   "source": [
    "###### 简单移动平均线\n",
    "简单移动平均线通常用于分析时间序列上的数据。<br>\n",
    "简单移动平均线可以用信号处理技术求解，即与1/N的权重进行卷积运算，N为移动平均窗口的大小，也可以不等权重。<br>\n",
    "卷积定义为一个函数与经过翻转和平移的另一个函数的乘积的积分。"
   ]
  },
  {
   "cell_type": "code",
   "execution_count": 26,
   "metadata": {
    "collapsed": false
   },
   "outputs": [
    {
     "name": "stdout",
     "output_type": "stream",
     "text": [
      "请输入一个正整数：\n",
      "5\n",
      "权重weights = [ 0.2  0.2  0.2  0.2  0.2]\n"
     ]
    },
    {
     "data": {
      "image/png": "[encoded data removed]",
      "text/plain": [
       "<matplotlib.figure.Figure at 0xab21d30>"
      ]
     },
     "metadata": {},
     "output_type": "display_data"
    }
   ],
   "source": [
    "# 创建一个长度为N的数组，并初始化元素的值为1，除以N，得到权重\n",
    "N = int(raw_input(u\"请输入一个正整数：\\n\"))\n",
    "weights = 1.0 * np.ones(N) / N\n",
    "print(\"权重weights = \" +str(weights))\n",
    "# 使用权重值，调用convolve函数，获取两者做卷积运算时完全重叠的区域\n",
    "sma = np.convolve(weights, c)[N-1: -N+1]\n",
    "t = np.arange(N-1, len(c))\n",
    "plt.plot(t, c[N-1:], lw=1.0, label=\"close price\")  # 每天的收盘价\n",
    "plt.plot(t, sma, lw=2.0, label=str(N) + 'days sma')  # N日简单移动平均线\n",
    "plt.legend(loc=\"upper left\")\n",
    "plt.show()"
   ]
  },
  {
   "cell_type": "markdown",
   "metadata": {},
   "source": [
    "###### 指数移动平均线\n",
    "指数移动平均线使用的权重是指数衰减的。对历史上的数据点赋予的权重以指数速度减小，但永远不会到达0."
   ]
  },
  {
   "cell_type": "code",
   "execution_count": 27,
   "metadata": {
    "collapsed": false
   },
   "outputs": [
    {
     "name": "stdout",
     "output_type": "stream",
     "text": [
      "权重weights = [ 0.11405072  0.14644403  0.18803785  0.24144538  0.31002201]\n"
     ]
    },
    {
     "data": {
      "image/png": "[encoded data removed]",
      "text/plain": [
       "<matplotlib.figure.Figure at 0xacda390>"
      ]
     },
     "metadata": {},
     "output_type": "display_data"
    }
   ],
   "source": [
    "# linspace函数需要一个起始值和一个终止值参数，以及可选的元素个数的参数，返回一个元素值在指定的范围内均匀分别的数组\n",
    "weights = np.exp(np.linspace(-1., 0., N))\n",
    "# 对权重值做归一化处理\n",
    "weights /= weights.sum()\n",
    "print(\"权重weights = \" + str(weights))\n",
    "ema = np.convolve(weights, c)[N-1: -N+1]\n",
    "t = np.arange(N-1, len(c))\n",
    "plt.plot(t, c[N-1:], lw=1.0, label=\"close price\")\n",
    "plt.plot(t, ema, lw=2.0, label=str(N) + \"days ema\")\n",
    "plt.legend(loc=\"upper left\")\n",
    "plt.show()"
   ]
  },
  {
   "cell_type": "markdown",
   "metadata": {},
   "source": [
    "###### 布林带\n",
    "布林带的基本形态是由三条轨道线组成的带状通道(中轨和上、下轨各一条)。\n",
    "<ul>\n",
    "<li><span style=\"font-weight:bold\">中轨</span>&nbsp;&nbsp;&nbsp;&nbsp;&nbsp;&nbsp;简单移动平均线。</li>\n",
    "<li><span style=\"font-weight:bold\">上轨</span>&nbsp;&nbsp;&nbsp;&nbsp;&nbsp;&nbsp;比简单移动平均线高两倍标准差的距离。这里的标准差是指计算简单移动平均线所用数据的标准差。</li>\n",
    "<li><span style=\"font-weight:bold\">下轨</span>&nbsp;&nbsp;&nbsp;&nbsp;&nbsp;&nbsp;比简单移动平均线低两倍标准差的距离。</li>\n",
    "</ul>"
   ]
  },
  {
   "cell_type": "code",
   "execution_count": 28,
   "metadata": {
    "collapsed": false
   },
   "outputs": [
    {
     "name": "stdout",
     "output_type": "stream",
     "text": [
      "[ 329.23044409  335.70890572  318.53386282  321.90858271  327.74175968\n",
      "  331.5628136   337.94259734  343.84172744  339.99900409  336.58687297\n",
      "  333.15550418  328.64879207  323.61483771  327.25667796  334.30323599\n",
      "  335.79295948  326.55905786  324.27329493  325.47601386  332.85867025\n",
      "  341.63882551  348.75558399  348.48014357  348.01342992  343.56371701\n",
      "  341.85163786]\n",
      "[ 336.1   339.32  345.03  344.32  343.44  346.5   351.88  355.2   358.16\n",
      "  354.54  356.85  359.18  359.9   363.13  358.3   350.56  338.61  342.62\n",
      "  342.88  348.16  353.21  349.31  352.12  359.56  360.    355.36]\n",
      "[ 354.05355591  351.73509428  373.93413718  374.62741729  374.33024032\n",
      "  374.9491864   372.70940266  369.73027256  375.45299591  380.85312703\n",
      "  385.78849582  387.77920793  384.58516229  374.03132204  358.88476401\n",
      "  353.33904052  363.63294214  370.19870507  372.79598614  372.08532975\n",
      "  368.04117449  361.78441601  364.63985643  365.24657008  364.54028299\n",
      "  363.04836214]\n",
      "布林带：1.0\n"
     ]
    },
    {
     "data": {
      "image/png": "[encoded data removed]",
      "text/plain": [
       "<matplotlib.figure.Figure at 0xac0b320>"
      ]
     },
     "metadata": {},
     "output_type": "display_data"
    }
   ],
   "source": [
    "deviation = []\n",
    "C = len(c)\n",
    "# 计算标准差\n",
    "for i in range(N-1, C):\n",
    "    if i+N < C:\n",
    "        dev = c[i: i+N]\n",
    "    else:\n",
    "        dev = c[-N:]\n",
    "    averages = np.zeros(N)\n",
    "    # 将数组元素的值全部设置为一个指定的标量值\n",
    "    averages.fill(sma[i-N-1])\n",
    "    dev = dev - averages\n",
    "    dev = dev ** 2\n",
    "    dev = np.sqrt(np.mean(dev))\n",
    "    deviation.append(dev)\n",
    "# 两倍标准差\n",
    "deviation = 2 * np.array(deviation)\n",
    "# 上轨\n",
    "upperBB = sma + deviation\n",
    "# 下轨\n",
    "lowerBB = sma - deviation\n",
    "\n",
    "c_slice = c[N-1:]\n",
    "between_bands = np.where((c_slice < upperBB) & (c_slice > lowerBB))\n",
    "print(lowerBB[between_bands])\n",
    "print(c[between_bands])\n",
    "print(upperBB[between_bands])\n",
    "between_bands = len(np.ravel(between_bands))\n",
    "print(\"布林带：\" + str(float(between_bands)/len(c_slice)))\n",
    "t = np.arange(N-1, C)\n",
    "plt.figure(figsize=(12,6))\n",
    "plt.plot(t, c_slice, lw=1.0, label=\"close price\")\n",
    "plt.plot(t, sma, lw=2.0, label=\"sma\")\n",
    "plt.plot(t, upperBB, lw=3.0, label=\"upperBB\")\n",
    "plt.plot(t, lowerBB, lw=4.0, label=\"lowerBB\")\n",
    "plt.legend(loc=\"upper left\")\n",
    "plt.show()"
   ]
  },
  {
   "cell_type": "markdown",
   "metadata": {},
   "source": [
    "###### 用线性模型预测价格"
   ]
  },
  {
   "cell_type": "code",
   "execution_count": 29,
   "metadata": {
    "collapsed": false
   },
   "outputs": [
    {
     "name": "stdout",
     "output_type": "stream",
     "text": [
      "b: [ 351.99  346.67  352.47  355.76  355.36]\n"
     ]
    }
   ],
   "source": [
    "# 获取一个包含N个股价的向量b\n",
    "b = c[-N:]\n",
    "b = b[::-1]\n",
    "print(\"b: \" + str(b))"
   ]
  },
  {
   "cell_type": "code",
   "execution_count": 30,
   "metadata": {
    "collapsed": false
   },
   "outputs": [
    {
     "name": "stdout",
     "output_type": "stream",
     "text": [
      "A: [[ 360.    355.36  355.76  352.47  346.67]\n",
      " [ 359.56  360.    355.36  355.76  352.47]\n",
      " [ 352.12  359.56  360.    355.36  355.76]\n",
      " [ 349.31  352.12  359.56  360.    355.36]\n",
      " [ 353.21  349.31  352.12  359.56  360.  ]]\n"
     ]
    }
   ],
   "source": [
    "# 初始化一个N*N的二维数组A，元素全部为0\n",
    "A = np.zeros((N, N), float)\n",
    "# 用b向量中的N个股价值填充数组A\n",
    "for i in range(N):\n",
    "    A[i,] = c[-N-1-i: -1-i]\n",
    "print(\"A: \" + str(A))"
   ]
  },
  {
   "cell_type": "code",
   "execution_count": 31,
   "metadata": {
    "collapsed": false
   },
   "outputs": [
    {
     "name": "stdout",
     "output_type": "stream",
     "text": [
      "系数向量: [ 0.78111069 -1.44411737  1.63563225 -0.89905126  0.92009049]\n",
      "残差数组: []\n",
      "A的秩: 5\n",
      "A的奇异值: [  1.77736601e+03   1.49622969e+01   8.75528492e+00   5.15099261e+00\n",
      "   1.75199608e+00]\n"
     ]
    }
   ],
   "source": [
    "# 使用linalg包中的lstsq函数来确定线性模型中的系数,原理是最小二乘\n",
    "(x, residuals, rank, s) = np.linalg.lstsq(A, b)\n",
    "print(\"系数向量: \" + str(x))\n",
    "print(\"残差数组: \" + str(residuals))\n",
    "print(\"A的秩: \" + str(rank))\n",
    "print(\"A的奇异值: \" + str(s))"
   ]
  },
  {
   "cell_type": "code",
   "execution_count": 32,
   "metadata": {
    "collapsed": false
   },
   "outputs": [
    {
     "name": "stdout",
     "output_type": "stream",
     "text": [
      "预测下一个交易日的收盘价为：357.939161015\n"
     ]
    }
   ],
   "source": [
    "# 使用dot函数计算系数向量与最近N个价格构成的向量的点积\n",
    "pre_price = np.dot(b,x)\n",
    "print(\"预测下一个交易日的收盘价为：\" + str(pre_price))"
   ]
  },
  {
   "cell_type": "markdown",
   "metadata": {},
   "source": [
    "###### 绘制趋势线\n",
    "阻力位：股价上升时遇到阻力，在转跌前的最高价格；<br>\n",
    "支撑位：股价下跌时遇到支撑，在价格反弹前的最低价格。<br>\n",
    "阻力位和支撑位只是一个估计量。"
   ]
  },
  {
   "cell_type": "code",
   "execution_count": 33,
   "metadata": {
    "collapsed": false
   },
   "outputs": [
    {
     "name": "stdout",
     "output_type": "stream",
     "text": [
      "枢轴点：[ 338.01        337.88666667  343.88666667  344.37333333  342.07666667\n",
      "  345.57        350.92333333  354.29        357.34333333  354.18\n",
      "  356.06333333  358.45666667  359.14        362.84333333  358.36333333\n",
      "  353.19333333  340.57666667  341.95666667  342.13333333  347.13\n",
      "  353.12666667  350.90333333  351.62333333  358.42333333  359.34666667\n",
      "  356.11333333  355.13666667  352.61        347.11333333  349.77      ]\n"
     ]
    }
   ],
   "source": [
    "# 确定枢轴点的位置，假设为最高价、最低价和收盘价的算术平均值\n",
    "h, l, c = np.loadtxt('data.csv', delimiter=',', usecols=(4, 5, 6), unpack=True)\n",
    "pivots = (h + l + c)/3.0\n",
    "print(\"枢轴点：\" + str(pivots))"
   ]
  },
  {
   "cell_type": "code",
   "execution_count": 34,
   "metadata": {
    "collapsed": true
   },
   "outputs": [],
   "source": [
    "# 定义一个函数用直线y=ax+b来拟合数据，该函数应返回系数a和b。\n",
    "# 将直线方程重写y=Ax的形式，其中A =[t 1]，x=[a b]\n",
    "def fit_line(t, y):\n",
    "    A = np.vstack([t, np.ones_like(t)]).T\n",
    "    return np.linalg.lstsq(A, y)[0]"
   ]
  },
  {
   "cell_type": "markdown",
   "metadata": {},
   "source": [
    "假设支撑位在枢轴点下方一个当日股价区间的位置，而阻力位在枢轴点上方一个当日股价区间的位置，据此拟合支撑位和阻力位的趋势线。"
   ]
  },
  {
   "cell_type": "code",
   "execution_count": 35,
   "metadata": {
    "collapsed": true
   },
   "outputs": [],
   "source": [
    "t = np.arange(len(c))\n",
    "sa, sb = fit_line(t, pivots - (h-l))\n",
    "ra, rb = fit_line(t, pivots + (h-l))\n",
    "support = sa * t+sb\n",
    "resistance = ra * t + rb"
   ]
  },
  {
   "cell_type": "markdown",
   "metadata": {},
   "source": [
    "第一种方法计算有多少数据点落在支撑位和阻力位之间的范围内：使用where函数和一个条件表达式。"
   ]
  },
  {
   "cell_type": "code",
   "execution_count": 36,
   "metadata": {
    "collapsed": false
   },
   "outputs": [
    {
     "name": "stdout",
     "output_type": "stream",
     "text": [
      "条件：[False False  True  True  True  True  True False False  True False False\n",
      " False False False  True False False False  True  True  True  True False\n",
      " False  True  True  True False  True]\n"
     ]
    }
   ],
   "source": [
    "# 设置一个判断数据点是否位于趋势线之间的条件\n",
    "condition = (c > support) & (c < resistance)\n",
    "print(\"条件：\" + str(condition))\n",
    "between_bands = np.where(condition)"
   ]
  },
  {
   "cell_type": "code",
   "execution_count": 37,
   "metadata": {
    "collapsed": false
   },
   "outputs": [
    {
     "name": "stdout",
     "output_type": "stream",
     "text": [
      "[ 341.92421382  342.19081893  342.45742405  342.72402917  342.99063429\n",
      "  343.79044964  345.39008034  346.4565008   346.72310592  346.98971104\n",
      "  347.25631615  348.0561315   348.32273662  348.58934174  349.12255197]\n",
      "[ 345.03  344.32  343.44  346.5   351.88  354.54  350.56  348.16  353.21\n",
      "  349.31  352.12  355.36  355.76  352.47  351.99]\n",
      "[ 352.61688271  352.90732765  353.19777259  353.48821753  353.77866246\n",
      "  354.64999728  356.39266691  357.55444667  357.84489161  358.13533655\n",
      "  358.42578149  359.2971163   359.58756124  359.87800618  360.45889606]\n"
     ]
    }
   ],
   "source": [
    "# 复查具体取值\n",
    "print support[between_bands]\n",
    "print c[between_bands]\n",
    "print resistance[between_bands]"
   ]
  },
  {
   "cell_type": "code",
   "execution_count": 38,
   "metadata": {
    "collapsed": false
   },
   "outputs": [
    {
     "name": "stdout",
     "output_type": "stream",
     "text": [
      "位于两条趋势线之间的数据点的个数：15\n",
      "位于两条趋势线之间的数据比例：0.5\n"
     ]
    }
   ],
   "source": [
    "between_bands = len(np.ravel(between_bands))\n",
    "print (\"位于两条趋势线之间的数据点的个数：\" + str(between_bands))\n",
    "print (\"位于两条趋势线之间的数据比例：\" + str(float(between_bands)/len(c)))"
   ]
  },
  {
   "cell_type": "code",
   "execution_count": 39,
   "metadata": {
    "collapsed": false
   },
   "outputs": [
    {
     "name": "stdout",
     "output_type": "stream",
     "text": [
      "下一个交易日的支撑位：349.389157088\n",
      "下一个交易日的阻力位：360.749340996\n"
     ]
    }
   ],
   "source": [
    "# 用模型来预测下一个交易日的阻力位和支撑位\n",
    "next_support = sa * (t[-1] + 1) +sb\n",
    "next_resistance = ra * (t[-1] +1) + rb\n",
    "print(\"下一个交易日的支撑位：\" + str(next_support))\n",
    "print(\"下一个交易日的阻力位：\" + str(next_resistance))"
   ]
  },
  {
   "cell_type": "markdown",
   "metadata": {},
   "source": [
    "另一种计算支撑位和阻力位之间数据点个数的方法：使用[]操作符和intersect1d函数。<br>\n",
    "intersect1d函数返回一个由两个数组的所有公共元素构成的数组。"
   ]
  },
  {
   "cell_type": "code",
   "execution_count": 40,
   "metadata": {
    "collapsed": false
   },
   "outputs": [
    {
     "name": "stdout",
     "output_type": "stream",
     "text": [
      "位于两条趋势线之间的数据点的个数: 15\n"
     ]
    }
   ],
   "source": [
    "a1 = c[c > support]\n",
    "a2 = c[c < resistance]\n",
    "between_bands2 = len(np.intersect1d(a1, a2))\n",
    "print(\"位于两条趋势线之间的数据点的个数: \" + str(between_bands2))"
   ]
  },
  {
   "cell_type": "code",
   "execution_count": 41,
   "metadata": {
    "collapsed": false
   },
   "outputs": [
    {
     "data": {
      "image/png": "[encoded data removed]",
      "text/plain": [
       "<matplotlib.figure.Figure at 0xad8f320>"
      ]
     },
     "metadata": {},
     "output_type": "display_data"
    }
   ],
   "source": [
    "plt.plot(t, c)\n",
    "plt.plot(t, support)\n",
    "plt.plot(t, resistance)\n",
    "plt.show()"
   ]
  },
  {
   "cell_type": "markdown",
   "metadata": {},
   "source": [
    "###### 数组的修剪和压缩"
   ]
  },
  {
   "cell_type": "markdown",
   "metadata": {},
   "source": [
    "clip方法返回一个修剪过的数组，也就是将所有比给定最大值还大的元素全部设为给定的最大值，而所有比给定最小值还小的元素全部设为给定的最小值。"
   ]
  },
  {
   "cell_type": "code",
   "execution_count": 42,
   "metadata": {
    "collapsed": false
   },
   "outputs": [
    {
     "name": "stdout",
     "output_type": "stream",
     "text": [
      "a = [0 1 2 3 4]\n",
      "修剪后: [1 1 2 3 3]\n"
     ]
    }
   ],
   "source": [
    "a = np.arange(5)\n",
    "print(\"a = \" + str(a))\n",
    "print(\"修剪后: \" + str(a.clip(1, 3)))"
   ]
  },
  {
   "cell_type": "markdown",
   "metadata": {},
   "source": [
    "compress方法返回一个根据给定条件筛选后的数组"
   ]
  },
  {
   "cell_type": "code",
   "execution_count": 43,
   "metadata": {
    "collapsed": false
   },
   "outputs": [
    {
     "name": "stdout",
     "output_type": "stream",
     "text": [
      "a = [0 1 2 3 4]\n",
      "压缩后：[3 4]\n"
     ]
    }
   ],
   "source": [
    "a = np.arange(5)\n",
    "print(\"a = \" + str(a))\n",
    "print(\"压缩后：\" + str(a.compress(a>2)))"
   ]
  },
  {
   "cell_type": "markdown",
   "metadata": {},
   "source": [
    "###### 阶乘"
   ]
  },
  {
   "cell_type": "code",
   "execution_count": 44,
   "metadata": {
    "collapsed": false
   },
   "outputs": [
    {
     "name": "stdout",
     "output_type": "stream",
     "text": [
      "b = [1 2 3 4 5 6 7 8]\n",
      "8的阶乘：40320\n",
      "数组元素的累积乘积：[    1     2     6    24   120   720  5040 40320]\n"
     ]
    }
   ],
   "source": [
    "b = np.arange(1, 9)\n",
    "print(\"b = \" + str(b))\n",
    "print(\"8的阶乘：\" + str(b.prod()))\n",
    "print(\"数组元素的累积乘积：\" + str(b.cumprod()))"
   ]
  }
 ],
 "metadata": {
  "anaconda-cloud": {},
  "kernelspec": {
   "display_name": "Python 2",
   "language": "python",
   "name": "python2"
  },
  "language_info": {
   "codemirror_mode": {
    "name": "ipython",
    "version": 2
   },
   "file_extension": ".py",
   "mimetype": "text/x-python",
   "name": "python",
   "nbconvert_exporter": "python",
   "pygments_lexer": "ipython2",
   "version": "2.7.12"
  }
 },
 "nbformat": 4,
 "nbformat_minor": 0
}
